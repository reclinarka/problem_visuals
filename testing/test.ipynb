{
 "cells": [
  {
   "cell_type": "code",
   "execution_count": null,
   "metadata": {
    "collapsed": true
   },
   "outputs": [],
   "source": [
    "import xml.etree.ElementTree as ET\n",
    "from problem_visuals.graphics.svg_handling import prepare_output, SvgProducer, attrs_f"
   ]
  },
  {
   "cell_type": "code",
   "execution_count": null,
   "outputs": [],
   "source": [
    "svg_prod = SvgProducer(100,100)"
   ],
   "metadata": {
    "collapsed": false
   }
  },
  {
   "cell_type": "code",
   "execution_count": null,
   "outputs": [],
   "source": [
    "svg = svg_prod.raw_svg"
   ],
   "metadata": {
    "collapsed": false
   }
  },
  {
   "cell_type": "code",
   "execution_count": null,
   "outputs": [],
   "source": [
    "ET.SubElement(svg, \"rect\", attrs_f({\n",
    "                \"x\": 50,\n",
    "                \"y\": 0,\n",
    "                \"width\": 50,\n",
    "                \"height\": 50,\n",
    "                \"class\": \" \".join([\"square\",\"light\"]),\n",
    "                \"stroke\": \"none\",\n",
    "                \"fill\": \"red\",\n",
    "                \"opacity\": 1.0,\n",
    "            }))"
   ],
   "metadata": {
    "collapsed": false
   }
  },
  {
   "cell_type": "code",
   "execution_count": null,
   "outputs": [],
   "source": [
    "svg_prod.raw_svg = svg"
   ],
   "metadata": {
    "collapsed": false
   }
  },
  {
   "cell_type": "code",
   "execution_count": null,
   "outputs": [],
   "source": [
    "svg_prod"
   ],
   "metadata": {
    "collapsed": false
   }
  },
  {
   "cell_type": "code",
   "execution_count": null,
   "outputs": [],
   "source": [
    "#el = svg.remove(svg.findall(\"./*[@x='50']\")[0])"
   ],
   "metadata": {
    "collapsed": false
   }
  },
  {
   "cell_type": "code",
   "execution_count": null,
   "outputs": [],
   "source": [
    "text = ET.SubElement(svg,\"text\",attrs_f({\"x\":50,\"y\":50,\"fill\":\"black\",\"font-size\":\"10px\"}))"
   ],
   "metadata": {
    "collapsed": false
   }
  },
  {
   "cell_type": "code",
   "execution_count": null,
   "outputs": [],
   "source": [
    "text.text = \"1\""
   ],
   "metadata": {
    "collapsed": false
   }
  },
  {
   "cell_type": "code",
   "execution_count": null,
   "outputs": [],
   "source": [
    "svg_prod"
   ],
   "metadata": {
    "collapsed": false
   }
  },
  {
   "cell_type": "code",
   "execution_count": null,
   "outputs": [],
   "source": [
    "ET.SubElement(svg, \"line\", attrs_f({\n",
    "            \"x1\": 0,\n",
    "            \"y1\": 100,\n",
    "            \"x2\": 100,\n",
    "            \"y2\": 100,\n",
    "            \"stroke\": \"black\",\n",
    "            \"stroke-width\": 0.5,\n",
    "            \"stroke-linecap\": \"butt\",\n",
    "        }))"
   ],
   "metadata": {
    "collapsed": false
   }
  },
  {
   "cell_type": "code",
   "execution_count": 1,
   "outputs": [],
   "source": [
    "from problem_visuals.games.sudoku.grid import Grid"
   ],
   "metadata": {
    "collapsed": false
   }
  },
  {
   "cell_type": "code",
   "execution_count": 2,
   "outputs": [
    {
     "data": {
      "text/plain": "<problem_visuals.games.sudoku.grid.Grid at 0x252ee764610>",
      "text/html": "<div style='width:25%'><svg xmlns=\"http://www.w3.org/2000/svg\" xmlns:xlink=\"http://www.w3.org/1999/xlink\" version=\"1.2\" baseProfile=\"tiny\" viewBox=\"0 0 180 180\"><defs /><rect x=\"0\" y=\"0\" width=\"20\" height=\"20\" stroke=\"none\" fill=\"#6699cc\" /><rect x=\"20\" y=\"0\" width=\"20\" height=\"20\" stroke=\"none\" fill=\"#79a6d2\" /><rect x=\"40\" y=\"0\" width=\"20\" height=\"20\" stroke=\"none\" fill=\"#6699cc\" /><rect x=\"60\" y=\"0\" width=\"20\" height=\"20\" stroke=\"none\" fill=\"#79a6d2\" /><rect x=\"80\" y=\"0\" width=\"20\" height=\"20\" stroke=\"none\" fill=\"#6699cc\" /><rect x=\"100\" y=\"0\" width=\"20\" height=\"20\" stroke=\"none\" fill=\"#79a6d2\" /><rect x=\"120\" y=\"0\" width=\"20\" height=\"20\" stroke=\"none\" fill=\"#6699cc\" /><rect x=\"140\" y=\"0\" width=\"20\" height=\"20\" stroke=\"none\" fill=\"#79a6d2\" /><rect x=\"160\" y=\"0\" width=\"20\" height=\"20\" stroke=\"none\" fill=\"#6699cc\" /><rect x=\"0\" y=\"20\" width=\"20\" height=\"20\" stroke=\"none\" fill=\"#79a6d2\" /><rect x=\"20\" y=\"20\" width=\"20\" height=\"20\" stroke=\"none\" fill=\"#6699cc\" /><rect x=\"40\" y=\"20\" width=\"20\" height=\"20\" stroke=\"none\" fill=\"#79a6d2\" /><rect x=\"60\" y=\"20\" width=\"20\" height=\"20\" stroke=\"none\" fill=\"#6699cc\" /><rect x=\"80\" y=\"20\" width=\"20\" height=\"20\" stroke=\"none\" fill=\"#79a6d2\" /><rect x=\"100\" y=\"20\" width=\"20\" height=\"20\" stroke=\"none\" fill=\"#6699cc\" /><rect x=\"120\" y=\"20\" width=\"20\" height=\"20\" stroke=\"none\" fill=\"#79a6d2\" /><rect x=\"140\" y=\"20\" width=\"20\" height=\"20\" stroke=\"none\" fill=\"#6699cc\" /><rect x=\"160\" y=\"20\" width=\"20\" height=\"20\" stroke=\"none\" fill=\"#79a6d2\" /><rect x=\"0\" y=\"40\" width=\"20\" height=\"20\" stroke=\"none\" fill=\"#6699cc\" /><rect x=\"20\" y=\"40\" width=\"20\" height=\"20\" stroke=\"none\" fill=\"#79a6d2\" /><rect x=\"40\" y=\"40\" width=\"20\" height=\"20\" stroke=\"none\" fill=\"#6699cc\" /><rect x=\"60\" y=\"40\" width=\"20\" height=\"20\" stroke=\"none\" fill=\"#79a6d2\" /><rect x=\"80\" y=\"40\" width=\"20\" height=\"20\" stroke=\"none\" fill=\"#6699cc\" /><rect x=\"100\" y=\"40\" width=\"20\" height=\"20\" stroke=\"none\" fill=\"#79a6d2\" /><rect x=\"120\" y=\"40\" width=\"20\" height=\"20\" stroke=\"none\" fill=\"#6699cc\" /><rect x=\"140\" y=\"40\" width=\"20\" height=\"20\" stroke=\"none\" fill=\"#79a6d2\" /><rect x=\"160\" y=\"40\" width=\"20\" height=\"20\" stroke=\"none\" fill=\"#6699cc\" /><rect x=\"0\" y=\"60\" width=\"20\" height=\"20\" stroke=\"none\" fill=\"#79a6d2\" /><rect x=\"20\" y=\"60\" width=\"20\" height=\"20\" stroke=\"none\" fill=\"#6699cc\" /><rect x=\"40\" y=\"60\" width=\"20\" height=\"20\" stroke=\"none\" fill=\"#79a6d2\" /><rect x=\"60\" y=\"60\" width=\"20\" height=\"20\" stroke=\"none\" fill=\"#6699cc\" /><rect x=\"80\" y=\"60\" width=\"20\" height=\"20\" stroke=\"none\" fill=\"#79a6d2\" /><rect x=\"100\" y=\"60\" width=\"20\" height=\"20\" stroke=\"none\" fill=\"#6699cc\" /><rect x=\"120\" y=\"60\" width=\"20\" height=\"20\" stroke=\"none\" fill=\"#79a6d2\" /><rect x=\"140\" y=\"60\" width=\"20\" height=\"20\" stroke=\"none\" fill=\"#6699cc\" /><rect x=\"160\" y=\"60\" width=\"20\" height=\"20\" stroke=\"none\" fill=\"#79a6d2\" /><rect x=\"0\" y=\"80\" width=\"20\" height=\"20\" stroke=\"none\" fill=\"#6699cc\" /><rect x=\"20\" y=\"80\" width=\"20\" height=\"20\" stroke=\"none\" fill=\"#79a6d2\" /><rect x=\"40\" y=\"80\" width=\"20\" height=\"20\" stroke=\"none\" fill=\"#6699cc\" /><rect x=\"60\" y=\"80\" width=\"20\" height=\"20\" stroke=\"none\" fill=\"#79a6d2\" /><rect x=\"80\" y=\"80\" width=\"20\" height=\"20\" stroke=\"none\" fill=\"#6699cc\" /><rect x=\"100\" y=\"80\" width=\"20\" height=\"20\" stroke=\"none\" fill=\"#79a6d2\" /><rect x=\"120\" y=\"80\" width=\"20\" height=\"20\" stroke=\"none\" fill=\"#6699cc\" /><rect x=\"140\" y=\"80\" width=\"20\" height=\"20\" stroke=\"none\" fill=\"#79a6d2\" /><rect x=\"160\" y=\"80\" width=\"20\" height=\"20\" stroke=\"none\" fill=\"#6699cc\" /><rect x=\"0\" y=\"100\" width=\"20\" height=\"20\" stroke=\"none\" fill=\"#79a6d2\" /><rect x=\"20\" y=\"100\" width=\"20\" height=\"20\" stroke=\"none\" fill=\"#6699cc\" /><rect x=\"40\" y=\"100\" width=\"20\" height=\"20\" stroke=\"none\" fill=\"#79a6d2\" /><rect x=\"60\" y=\"100\" width=\"20\" height=\"20\" stroke=\"none\" fill=\"#6699cc\" /><rect x=\"80\" y=\"100\" width=\"20\" height=\"20\" stroke=\"none\" fill=\"#79a6d2\" /><rect x=\"100\" y=\"100\" width=\"20\" height=\"20\" stroke=\"none\" fill=\"#6699cc\" /><rect x=\"120\" y=\"100\" width=\"20\" height=\"20\" stroke=\"none\" fill=\"#79a6d2\" /><rect x=\"140\" y=\"100\" width=\"20\" height=\"20\" stroke=\"none\" fill=\"#6699cc\" /><rect x=\"160\" y=\"100\" width=\"20\" height=\"20\" stroke=\"none\" fill=\"#79a6d2\" /><rect x=\"0\" y=\"120\" width=\"20\" height=\"20\" stroke=\"none\" fill=\"#6699cc\" /><rect x=\"20\" y=\"120\" width=\"20\" height=\"20\" stroke=\"none\" fill=\"#79a6d2\" /><rect x=\"40\" y=\"120\" width=\"20\" height=\"20\" stroke=\"none\" fill=\"#6699cc\" /><rect x=\"60\" y=\"120\" width=\"20\" height=\"20\" stroke=\"none\" fill=\"#79a6d2\" /><rect x=\"80\" y=\"120\" width=\"20\" height=\"20\" stroke=\"none\" fill=\"#6699cc\" /><rect x=\"100\" y=\"120\" width=\"20\" height=\"20\" stroke=\"none\" fill=\"#79a6d2\" /><rect x=\"120\" y=\"120\" width=\"20\" height=\"20\" stroke=\"none\" fill=\"#6699cc\" /><rect x=\"140\" y=\"120\" width=\"20\" height=\"20\" stroke=\"none\" fill=\"#79a6d2\" /><rect x=\"160\" y=\"120\" width=\"20\" height=\"20\" stroke=\"none\" fill=\"#6699cc\" /><rect x=\"0\" y=\"140\" width=\"20\" height=\"20\" stroke=\"none\" fill=\"#79a6d2\" /><rect x=\"20\" y=\"140\" width=\"20\" height=\"20\" stroke=\"none\" fill=\"#6699cc\" /><rect x=\"40\" y=\"140\" width=\"20\" height=\"20\" stroke=\"none\" fill=\"#79a6d2\" /><rect x=\"60\" y=\"140\" width=\"20\" height=\"20\" stroke=\"none\" fill=\"#6699cc\" /><rect x=\"80\" y=\"140\" width=\"20\" height=\"20\" stroke=\"none\" fill=\"#79a6d2\" /><rect x=\"100\" y=\"140\" width=\"20\" height=\"20\" stroke=\"none\" fill=\"#6699cc\" /><rect x=\"120\" y=\"140\" width=\"20\" height=\"20\" stroke=\"none\" fill=\"#79a6d2\" /><rect x=\"140\" y=\"140\" width=\"20\" height=\"20\" stroke=\"none\" fill=\"#6699cc\" /><rect x=\"160\" y=\"140\" width=\"20\" height=\"20\" stroke=\"none\" fill=\"#79a6d2\" /><rect x=\"0\" y=\"160\" width=\"20\" height=\"20\" stroke=\"none\" fill=\"#6699cc\" /><rect x=\"20\" y=\"160\" width=\"20\" height=\"20\" stroke=\"none\" fill=\"#79a6d2\" /><rect x=\"40\" y=\"160\" width=\"20\" height=\"20\" stroke=\"none\" fill=\"#6699cc\" /><rect x=\"60\" y=\"160\" width=\"20\" height=\"20\" stroke=\"none\" fill=\"#79a6d2\" /><rect x=\"80\" y=\"160\" width=\"20\" height=\"20\" stroke=\"none\" fill=\"#6699cc\" /><rect x=\"100\" y=\"160\" width=\"20\" height=\"20\" stroke=\"none\" fill=\"#79a6d2\" /><rect x=\"120\" y=\"160\" width=\"20\" height=\"20\" stroke=\"none\" fill=\"#6699cc\" /><rect x=\"140\" y=\"160\" width=\"20\" height=\"20\" stroke=\"none\" fill=\"#79a6d2\" /><rect x=\"160\" y=\"160\" width=\"20\" height=\"20\" stroke=\"none\" fill=\"#6699cc\" /><line x1=\"60\" y1=\"0\" x2=\"60\" y2=\"180\" stroke=\"white\" stroke-width=\"1\" stroke-linecap=\"butt\" /><line x1=\"120\" y1=\"0\" x2=\"120\" y2=\"180\" stroke=\"white\" stroke-width=\"1\" stroke-linecap=\"butt\" /><line x1=\"180\" y1=\"0\" x2=\"180\" y2=\"180\" stroke=\"white\" stroke-width=\"1\" stroke-linecap=\"butt\" /><line x1=\"0\" y1=\"60\" x2=\"180\" y2=\"60\" stroke=\"white\" stroke-width=\"1\" stroke-linecap=\"butt\" /><line x1=\"0\" y1=\"120\" x2=\"180\" y2=\"120\" stroke=\"white\" stroke-width=\"1\" stroke-linecap=\"butt\" /><line x1=\"0\" y1=\"180\" x2=\"180\" y2=\"180\" stroke=\"white\" stroke-width=\"1\" stroke-linecap=\"butt\" /></svg></div>"
     },
     "execution_count": 2,
     "metadata": {},
     "output_type": "execute_result"
    }
   ],
   "source": [
    "Grid()"
   ],
   "metadata": {
    "collapsed": false
   }
  },
  {
   "cell_type": "code",
   "execution_count": null,
   "outputs": [],
   "source": [],
   "metadata": {
    "collapsed": false
   }
  }
 ],
 "metadata": {
  "kernelspec": {
   "display_name": "Python 3",
   "language": "python",
   "name": "python3"
  },
  "language_info": {
   "codemirror_mode": {
    "name": "ipython",
    "version": 2
   },
   "file_extension": ".py",
   "mimetype": "text/x-python",
   "name": "python",
   "nbconvert_exporter": "python",
   "pygments_lexer": "ipython2",
   "version": "2.7.6"
  }
 },
 "nbformat": 4,
 "nbformat_minor": 0
}
