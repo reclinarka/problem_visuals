{
 "cells": [
  {
   "cell_type": "code",
   "execution_count": null,
   "outputs": [],
   "source": [
    "!pip install git+https://github.com/reclinarka/problem-visuals"
   ],
   "metadata": {
    "collapsed": false
   }
  },
  {
   "cell_type": "code",
   "execution_count": 1,
   "outputs": [],
   "source": [
    "from problem_visuals.games.sudoku.grid import Grid"
   ],
   "metadata": {
    "collapsed": false
   }
  },
  {
   "cell_type": "code",
   "execution_count": 2,
   "outputs": [
    {
     "data": {
      "text/plain": "<problem_visuals.games.sudoku.grid.Grid at 0x26e23964e20>",
      "text/html": "<div style='width:25%'><svg xmlns=\"http://www.w3.org/2000/svg\" xmlns:xlink=\"http://www.w3.org/1999/xlink\" version=\"1.2\" baseProfile=\"tiny\" viewBox=\"0 0 180 180\"><defs /><rect x=\"0\" y=\"0\" width=\"20\" height=\"20\" stroke=\"none\" fill=\"#6699cc\" /><rect x=\"20\" y=\"0\" width=\"20\" height=\"20\" stroke=\"none\" fill=\"#79a6d2\" /><rect x=\"40\" y=\"0\" width=\"20\" height=\"20\" stroke=\"none\" fill=\"#6699cc\" /><rect x=\"60\" y=\"0\" width=\"20\" height=\"20\" stroke=\"none\" fill=\"#79a6d2\" /><rect x=\"80\" y=\"0\" width=\"20\" height=\"20\" stroke=\"none\" fill=\"#6699cc\" /><rect x=\"100\" y=\"0\" width=\"20\" height=\"20\" stroke=\"none\" fill=\"#79a6d2\" /><rect x=\"120\" y=\"0\" width=\"20\" height=\"20\" stroke=\"none\" fill=\"#6699cc\" /><rect x=\"140\" y=\"0\" width=\"20\" height=\"20\" stroke=\"none\" fill=\"#79a6d2\" /><rect x=\"160\" y=\"0\" width=\"20\" height=\"20\" stroke=\"none\" fill=\"#6699cc\" /><rect x=\"0\" y=\"20\" width=\"20\" height=\"20\" stroke=\"none\" fill=\"#79a6d2\" /><rect x=\"20\" y=\"20\" width=\"20\" height=\"20\" stroke=\"none\" fill=\"#6699cc\" /><rect x=\"40\" y=\"20\" width=\"20\" height=\"20\" stroke=\"none\" fill=\"#79a6d2\" /><rect x=\"60\" y=\"20\" width=\"20\" height=\"20\" stroke=\"none\" fill=\"#6699cc\" /><rect x=\"80\" y=\"20\" width=\"20\" height=\"20\" stroke=\"none\" fill=\"#79a6d2\" /><rect x=\"100\" y=\"20\" width=\"20\" height=\"20\" stroke=\"none\" fill=\"#6699cc\" /><rect x=\"120\" y=\"20\" width=\"20\" height=\"20\" stroke=\"none\" fill=\"#79a6d2\" /><rect x=\"140\" y=\"20\" width=\"20\" height=\"20\" stroke=\"none\" fill=\"#6699cc\" /><rect x=\"160\" y=\"20\" width=\"20\" height=\"20\" stroke=\"none\" fill=\"#79a6d2\" /><rect x=\"0\" y=\"40\" width=\"20\" height=\"20\" stroke=\"none\" fill=\"#6699cc\" /><rect x=\"20\" y=\"40\" width=\"20\" height=\"20\" stroke=\"none\" fill=\"#79a6d2\" /><rect x=\"40\" y=\"40\" width=\"20\" height=\"20\" stroke=\"none\" fill=\"#6699cc\" /><rect x=\"60\" y=\"40\" width=\"20\" height=\"20\" stroke=\"none\" fill=\"#79a6d2\" /><rect x=\"80\" y=\"40\" width=\"20\" height=\"20\" stroke=\"none\" fill=\"#6699cc\" /><rect x=\"100\" y=\"40\" width=\"20\" height=\"20\" stroke=\"none\" fill=\"#79a6d2\" /><rect x=\"120\" y=\"40\" width=\"20\" height=\"20\" stroke=\"none\" fill=\"#6699cc\" /><rect x=\"140\" y=\"40\" width=\"20\" height=\"20\" stroke=\"none\" fill=\"#79a6d2\" /><rect x=\"160\" y=\"40\" width=\"20\" height=\"20\" stroke=\"none\" fill=\"#6699cc\" /><rect x=\"0\" y=\"60\" width=\"20\" height=\"20\" stroke=\"none\" fill=\"#79a6d2\" /><rect x=\"20\" y=\"60\" width=\"20\" height=\"20\" stroke=\"none\" fill=\"#6699cc\" /><rect x=\"40\" y=\"60\" width=\"20\" height=\"20\" stroke=\"none\" fill=\"#79a6d2\" /><rect x=\"60\" y=\"60\" width=\"20\" height=\"20\" stroke=\"none\" fill=\"#6699cc\" /><rect x=\"80\" y=\"60\" width=\"20\" height=\"20\" stroke=\"none\" fill=\"#79a6d2\" /><rect x=\"100\" y=\"60\" width=\"20\" height=\"20\" stroke=\"none\" fill=\"#6699cc\" /><rect x=\"120\" y=\"60\" width=\"20\" height=\"20\" stroke=\"none\" fill=\"#79a6d2\" /><rect x=\"140\" y=\"60\" width=\"20\" height=\"20\" stroke=\"none\" fill=\"#6699cc\" /><rect x=\"160\" y=\"60\" width=\"20\" height=\"20\" stroke=\"none\" fill=\"#79a6d2\" /><rect x=\"0\" y=\"80\" width=\"20\" height=\"20\" stroke=\"none\" fill=\"#6699cc\" /><rect x=\"20\" y=\"80\" width=\"20\" height=\"20\" stroke=\"none\" fill=\"#79a6d2\" /><rect x=\"40\" y=\"80\" width=\"20\" height=\"20\" stroke=\"none\" fill=\"#6699cc\" /><rect x=\"60\" y=\"80\" width=\"20\" height=\"20\" stroke=\"none\" fill=\"#79a6d2\" /><rect x=\"80\" y=\"80\" width=\"20\" height=\"20\" stroke=\"none\" fill=\"#6699cc\" /><rect x=\"100\" y=\"80\" width=\"20\" height=\"20\" stroke=\"none\" fill=\"#79a6d2\" /><rect x=\"120\" y=\"80\" width=\"20\" height=\"20\" stroke=\"none\" fill=\"#6699cc\" /><rect x=\"140\" y=\"80\" width=\"20\" height=\"20\" stroke=\"none\" fill=\"#79a6d2\" /><rect x=\"160\" y=\"80\" width=\"20\" height=\"20\" stroke=\"none\" fill=\"#6699cc\" /><rect x=\"0\" y=\"100\" width=\"20\" height=\"20\" stroke=\"none\" fill=\"#79a6d2\" /><rect x=\"20\" y=\"100\" width=\"20\" height=\"20\" stroke=\"none\" fill=\"#6699cc\" /><rect x=\"40\" y=\"100\" width=\"20\" height=\"20\" stroke=\"none\" fill=\"#79a6d2\" /><rect x=\"60\" y=\"100\" width=\"20\" height=\"20\" stroke=\"none\" fill=\"#6699cc\" /><rect x=\"80\" y=\"100\" width=\"20\" height=\"20\" stroke=\"none\" fill=\"#79a6d2\" /><rect x=\"100\" y=\"100\" width=\"20\" height=\"20\" stroke=\"none\" fill=\"#6699cc\" /><rect x=\"120\" y=\"100\" width=\"20\" height=\"20\" stroke=\"none\" fill=\"#79a6d2\" /><rect x=\"140\" y=\"100\" width=\"20\" height=\"20\" stroke=\"none\" fill=\"#6699cc\" /><rect x=\"160\" y=\"100\" width=\"20\" height=\"20\" stroke=\"none\" fill=\"#79a6d2\" /><rect x=\"0\" y=\"120\" width=\"20\" height=\"20\" stroke=\"none\" fill=\"#6699cc\" /><rect x=\"20\" y=\"120\" width=\"20\" height=\"20\" stroke=\"none\" fill=\"#79a6d2\" /><rect x=\"40\" y=\"120\" width=\"20\" height=\"20\" stroke=\"none\" fill=\"#6699cc\" /><rect x=\"60\" y=\"120\" width=\"20\" height=\"20\" stroke=\"none\" fill=\"#79a6d2\" /><rect x=\"80\" y=\"120\" width=\"20\" height=\"20\" stroke=\"none\" fill=\"#6699cc\" /><rect x=\"100\" y=\"120\" width=\"20\" height=\"20\" stroke=\"none\" fill=\"#79a6d2\" /><rect x=\"120\" y=\"120\" width=\"20\" height=\"20\" stroke=\"none\" fill=\"#6699cc\" /><rect x=\"140\" y=\"120\" width=\"20\" height=\"20\" stroke=\"none\" fill=\"#79a6d2\" /><rect x=\"160\" y=\"120\" width=\"20\" height=\"20\" stroke=\"none\" fill=\"#6699cc\" /><rect x=\"0\" y=\"140\" width=\"20\" height=\"20\" stroke=\"none\" fill=\"#79a6d2\" /><rect x=\"20\" y=\"140\" width=\"20\" height=\"20\" stroke=\"none\" fill=\"#6699cc\" /><rect x=\"40\" y=\"140\" width=\"20\" height=\"20\" stroke=\"none\" fill=\"#79a6d2\" /><rect x=\"60\" y=\"140\" width=\"20\" height=\"20\" stroke=\"none\" fill=\"#6699cc\" /><rect x=\"80\" y=\"140\" width=\"20\" height=\"20\" stroke=\"none\" fill=\"#79a6d2\" /><rect x=\"100\" y=\"140\" width=\"20\" height=\"20\" stroke=\"none\" fill=\"#6699cc\" /><rect x=\"120\" y=\"140\" width=\"20\" height=\"20\" stroke=\"none\" fill=\"#79a6d2\" /><rect x=\"140\" y=\"140\" width=\"20\" height=\"20\" stroke=\"none\" fill=\"#6699cc\" /><rect x=\"160\" y=\"140\" width=\"20\" height=\"20\" stroke=\"none\" fill=\"#79a6d2\" /><rect x=\"0\" y=\"160\" width=\"20\" height=\"20\" stroke=\"none\" fill=\"#6699cc\" /><rect x=\"20\" y=\"160\" width=\"20\" height=\"20\" stroke=\"none\" fill=\"#79a6d2\" /><rect x=\"40\" y=\"160\" width=\"20\" height=\"20\" stroke=\"none\" fill=\"#6699cc\" /><rect x=\"60\" y=\"160\" width=\"20\" height=\"20\" stroke=\"none\" fill=\"#79a6d2\" /><rect x=\"80\" y=\"160\" width=\"20\" height=\"20\" stroke=\"none\" fill=\"#6699cc\" /><rect x=\"100\" y=\"160\" width=\"20\" height=\"20\" stroke=\"none\" fill=\"#79a6d2\" /><rect x=\"120\" y=\"160\" width=\"20\" height=\"20\" stroke=\"none\" fill=\"#6699cc\" /><rect x=\"140\" y=\"160\" width=\"20\" height=\"20\" stroke=\"none\" fill=\"#79a6d2\" /><rect x=\"160\" y=\"160\" width=\"20\" height=\"20\" stroke=\"none\" fill=\"#6699cc\" /><line x1=\"0\" y1=\"0\" x2=\"0\" y2=\"180\" stroke=\"white\" stroke-width=\"1\" stroke-linecap=\"butt\" /><line x1=\"60\" y1=\"0\" x2=\"60\" y2=\"180\" stroke=\"white\" stroke-width=\"1\" stroke-linecap=\"butt\" /><line x1=\"120\" y1=\"0\" x2=\"120\" y2=\"180\" stroke=\"white\" stroke-width=\"1\" stroke-linecap=\"butt\" /><line x1=\"180\" y1=\"0\" x2=\"180\" y2=\"180\" stroke=\"white\" stroke-width=\"1\" stroke-linecap=\"butt\" /><line x1=\"0\" y1=\"0\" x2=\"180\" y2=\"0\" stroke=\"white\" stroke-width=\"1\" stroke-linecap=\"butt\" /><line x1=\"0\" y1=\"60\" x2=\"180\" y2=\"60\" stroke=\"white\" stroke-width=\"1\" stroke-linecap=\"butt\" /><line x1=\"0\" y1=\"120\" x2=\"180\" y2=\"120\" stroke=\"white\" stroke-width=\"1\" stroke-linecap=\"butt\" /><line x1=\"0\" y1=\"180\" x2=\"180\" y2=\"180\" stroke=\"white\" stroke-width=\"1\" stroke-linecap=\"butt\" /><text x=\"6\" y=\"15\" stroke=\"black\" fill=\"black\">1</text><text x=\"26\" y=\"15\" stroke=\"black\" fill=\"black\">2</text><text x=\"46\" y=\"15\" stroke=\"black\" fill=\"black\">3</text><text x=\"66\" y=\"15\" stroke=\"black\" fill=\"black\">4</text><text x=\"86\" y=\"15\" stroke=\"black\" fill=\"black\">5</text><text x=\"106\" y=\"15\" stroke=\"black\" fill=\"black\">6</text><text x=\"126\" y=\"15\" stroke=\"black\" fill=\"black\">7</text><text x=\"146\" y=\"15\" stroke=\"black\" fill=\"black\">8</text><text x=\"166\" y=\"15\" stroke=\"black\" fill=\"black\">9</text></svg></div>"
     },
     "execution_count": 2,
     "metadata": {},
     "output_type": "execute_result"
    }
   ],
   "source": [
    "g = Grid()\n",
    "for i in range(9):\n",
    "    g.add_number(i+1,0,i)\n",
    "g"
   ],
   "metadata": {
    "collapsed": false
   }
  },
  {
   "cell_type": "code",
   "execution_count": 4,
   "outputs": [],
   "source": [
    "g.save_svg(\"sudoku_manual.svg\")"
   ],
   "metadata": {
    "collapsed": false
   }
  },
  {
   "cell_type": "code",
   "execution_count": 3,
   "outputs": [
    {
     "data": {
      "text/plain": "<problem_visuals.games.sudoku.grid.Grid at 0x26e239e78b0>",
      "text/html": "<div style='width:50%'><svg xmlns=\"http://www.w3.org/2000/svg\" xmlns:xlink=\"http://www.w3.org/1999/xlink\" version=\"1.2\" baseProfile=\"tiny\" viewBox=\"0 0 180 180\"><defs /><rect x=\"0\" y=\"0\" width=\"20\" height=\"20\" stroke=\"none\" fill=\"#6699cc\" /><rect x=\"20\" y=\"0\" width=\"20\" height=\"20\" stroke=\"none\" fill=\"#79a6d2\" /><rect x=\"40\" y=\"0\" width=\"20\" height=\"20\" stroke=\"none\" fill=\"#6699cc\" /><rect x=\"60\" y=\"0\" width=\"20\" height=\"20\" stroke=\"none\" fill=\"#79a6d2\" /><rect x=\"80\" y=\"0\" width=\"20\" height=\"20\" stroke=\"none\" fill=\"#6699cc\" /><rect x=\"100\" y=\"0\" width=\"20\" height=\"20\" stroke=\"none\" fill=\"#79a6d2\" /><rect x=\"120\" y=\"0\" width=\"20\" height=\"20\" stroke=\"none\" fill=\"#6699cc\" /><rect x=\"140\" y=\"0\" width=\"20\" height=\"20\" stroke=\"none\" fill=\"#79a6d2\" /><rect x=\"160\" y=\"0\" width=\"20\" height=\"20\" stroke=\"none\" fill=\"#6699cc\" /><rect x=\"0\" y=\"20\" width=\"20\" height=\"20\" stroke=\"none\" fill=\"#79a6d2\" /><rect x=\"20\" y=\"20\" width=\"20\" height=\"20\" stroke=\"none\" fill=\"#6699cc\" /><rect x=\"40\" y=\"20\" width=\"20\" height=\"20\" stroke=\"none\" fill=\"#79a6d2\" /><rect x=\"60\" y=\"20\" width=\"20\" height=\"20\" stroke=\"none\" fill=\"#6699cc\" /><rect x=\"80\" y=\"20\" width=\"20\" height=\"20\" stroke=\"none\" fill=\"#79a6d2\" /><rect x=\"100\" y=\"20\" width=\"20\" height=\"20\" stroke=\"none\" fill=\"#6699cc\" /><rect x=\"120\" y=\"20\" width=\"20\" height=\"20\" stroke=\"none\" fill=\"#79a6d2\" /><rect x=\"140\" y=\"20\" width=\"20\" height=\"20\" stroke=\"none\" fill=\"#6699cc\" /><rect x=\"160\" y=\"20\" width=\"20\" height=\"20\" stroke=\"none\" fill=\"#79a6d2\" /><rect x=\"0\" y=\"40\" width=\"20\" height=\"20\" stroke=\"none\" fill=\"#6699cc\" /><rect x=\"20\" y=\"40\" width=\"20\" height=\"20\" stroke=\"none\" fill=\"#79a6d2\" /><rect x=\"40\" y=\"40\" width=\"20\" height=\"20\" stroke=\"none\" fill=\"#6699cc\" /><rect x=\"60\" y=\"40\" width=\"20\" height=\"20\" stroke=\"none\" fill=\"#79a6d2\" /><rect x=\"80\" y=\"40\" width=\"20\" height=\"20\" stroke=\"none\" fill=\"#6699cc\" /><rect x=\"100\" y=\"40\" width=\"20\" height=\"20\" stroke=\"none\" fill=\"#79a6d2\" /><rect x=\"120\" y=\"40\" width=\"20\" height=\"20\" stroke=\"none\" fill=\"#6699cc\" /><rect x=\"140\" y=\"40\" width=\"20\" height=\"20\" stroke=\"none\" fill=\"#79a6d2\" /><rect x=\"160\" y=\"40\" width=\"20\" height=\"20\" stroke=\"none\" fill=\"#6699cc\" /><rect x=\"0\" y=\"60\" width=\"20\" height=\"20\" stroke=\"none\" fill=\"#79a6d2\" /><rect x=\"20\" y=\"60\" width=\"20\" height=\"20\" stroke=\"none\" fill=\"#6699cc\" /><rect x=\"40\" y=\"60\" width=\"20\" height=\"20\" stroke=\"none\" fill=\"#79a6d2\" /><rect x=\"60\" y=\"60\" width=\"20\" height=\"20\" stroke=\"none\" fill=\"#6699cc\" /><rect x=\"80\" y=\"60\" width=\"20\" height=\"20\" stroke=\"none\" fill=\"#79a6d2\" /><rect x=\"100\" y=\"60\" width=\"20\" height=\"20\" stroke=\"none\" fill=\"#6699cc\" /><rect x=\"120\" y=\"60\" width=\"20\" height=\"20\" stroke=\"none\" fill=\"#79a6d2\" /><rect x=\"140\" y=\"60\" width=\"20\" height=\"20\" stroke=\"none\" fill=\"#6699cc\" /><rect x=\"160\" y=\"60\" width=\"20\" height=\"20\" stroke=\"none\" fill=\"#79a6d2\" /><rect x=\"0\" y=\"80\" width=\"20\" height=\"20\" stroke=\"none\" fill=\"#6699cc\" /><rect x=\"20\" y=\"80\" width=\"20\" height=\"20\" stroke=\"none\" fill=\"#79a6d2\" /><rect x=\"40\" y=\"80\" width=\"20\" height=\"20\" stroke=\"none\" fill=\"#6699cc\" /><rect x=\"60\" y=\"80\" width=\"20\" height=\"20\" stroke=\"none\" fill=\"#79a6d2\" /><rect x=\"80\" y=\"80\" width=\"20\" height=\"20\" stroke=\"none\" fill=\"#6699cc\" /><rect x=\"100\" y=\"80\" width=\"20\" height=\"20\" stroke=\"none\" fill=\"#79a6d2\" /><rect x=\"120\" y=\"80\" width=\"20\" height=\"20\" stroke=\"none\" fill=\"#6699cc\" /><rect x=\"140\" y=\"80\" width=\"20\" height=\"20\" stroke=\"none\" fill=\"#79a6d2\" /><rect x=\"160\" y=\"80\" width=\"20\" height=\"20\" stroke=\"none\" fill=\"#6699cc\" /><rect x=\"0\" y=\"100\" width=\"20\" height=\"20\" stroke=\"none\" fill=\"#79a6d2\" /><rect x=\"20\" y=\"100\" width=\"20\" height=\"20\" stroke=\"none\" fill=\"#6699cc\" /><rect x=\"40\" y=\"100\" width=\"20\" height=\"20\" stroke=\"none\" fill=\"#79a6d2\" /><rect x=\"60\" y=\"100\" width=\"20\" height=\"20\" stroke=\"none\" fill=\"#6699cc\" /><rect x=\"80\" y=\"100\" width=\"20\" height=\"20\" stroke=\"none\" fill=\"#79a6d2\" /><rect x=\"100\" y=\"100\" width=\"20\" height=\"20\" stroke=\"none\" fill=\"#6699cc\" /><rect x=\"120\" y=\"100\" width=\"20\" height=\"20\" stroke=\"none\" fill=\"#79a6d2\" /><rect x=\"140\" y=\"100\" width=\"20\" height=\"20\" stroke=\"none\" fill=\"#6699cc\" /><rect x=\"160\" y=\"100\" width=\"20\" height=\"20\" stroke=\"none\" fill=\"#79a6d2\" /><rect x=\"0\" y=\"120\" width=\"20\" height=\"20\" stroke=\"none\" fill=\"#6699cc\" /><rect x=\"20\" y=\"120\" width=\"20\" height=\"20\" stroke=\"none\" fill=\"#79a6d2\" /><rect x=\"40\" y=\"120\" width=\"20\" height=\"20\" stroke=\"none\" fill=\"#6699cc\" /><rect x=\"60\" y=\"120\" width=\"20\" height=\"20\" stroke=\"none\" fill=\"#79a6d2\" /><rect x=\"80\" y=\"120\" width=\"20\" height=\"20\" stroke=\"none\" fill=\"#6699cc\" /><rect x=\"100\" y=\"120\" width=\"20\" height=\"20\" stroke=\"none\" fill=\"#79a6d2\" /><rect x=\"120\" y=\"120\" width=\"20\" height=\"20\" stroke=\"none\" fill=\"#6699cc\" /><rect x=\"140\" y=\"120\" width=\"20\" height=\"20\" stroke=\"none\" fill=\"#79a6d2\" /><rect x=\"160\" y=\"120\" width=\"20\" height=\"20\" stroke=\"none\" fill=\"#6699cc\" /><rect x=\"0\" y=\"140\" width=\"20\" height=\"20\" stroke=\"none\" fill=\"#79a6d2\" /><rect x=\"20\" y=\"140\" width=\"20\" height=\"20\" stroke=\"none\" fill=\"#6699cc\" /><rect x=\"40\" y=\"140\" width=\"20\" height=\"20\" stroke=\"none\" fill=\"#79a6d2\" /><rect x=\"60\" y=\"140\" width=\"20\" height=\"20\" stroke=\"none\" fill=\"#6699cc\" /><rect x=\"80\" y=\"140\" width=\"20\" height=\"20\" stroke=\"none\" fill=\"#79a6d2\" /><rect x=\"100\" y=\"140\" width=\"20\" height=\"20\" stroke=\"none\" fill=\"#6699cc\" /><rect x=\"120\" y=\"140\" width=\"20\" height=\"20\" stroke=\"none\" fill=\"#79a6d2\" /><rect x=\"140\" y=\"140\" width=\"20\" height=\"20\" stroke=\"none\" fill=\"#6699cc\" /><rect x=\"160\" y=\"140\" width=\"20\" height=\"20\" stroke=\"none\" fill=\"#79a6d2\" /><rect x=\"0\" y=\"160\" width=\"20\" height=\"20\" stroke=\"none\" fill=\"#6699cc\" /><rect x=\"20\" y=\"160\" width=\"20\" height=\"20\" stroke=\"none\" fill=\"#79a6d2\" /><rect x=\"40\" y=\"160\" width=\"20\" height=\"20\" stroke=\"none\" fill=\"#6699cc\" /><rect x=\"60\" y=\"160\" width=\"20\" height=\"20\" stroke=\"none\" fill=\"#79a6d2\" /><rect x=\"80\" y=\"160\" width=\"20\" height=\"20\" stroke=\"none\" fill=\"#6699cc\" /><rect x=\"100\" y=\"160\" width=\"20\" height=\"20\" stroke=\"none\" fill=\"#79a6d2\" /><rect x=\"120\" y=\"160\" width=\"20\" height=\"20\" stroke=\"none\" fill=\"#6699cc\" /><rect x=\"140\" y=\"160\" width=\"20\" height=\"20\" stroke=\"none\" fill=\"#79a6d2\" /><rect x=\"160\" y=\"160\" width=\"20\" height=\"20\" stroke=\"none\" fill=\"#6699cc\" /><line x1=\"0\" y1=\"0\" x2=\"0\" y2=\"180\" stroke=\"white\" stroke-width=\"1\" stroke-linecap=\"butt\" /><line x1=\"60\" y1=\"0\" x2=\"60\" y2=\"180\" stroke=\"white\" stroke-width=\"1\" stroke-linecap=\"butt\" /><line x1=\"120\" y1=\"0\" x2=\"120\" y2=\"180\" stroke=\"white\" stroke-width=\"1\" stroke-linecap=\"butt\" /><line x1=\"180\" y1=\"0\" x2=\"180\" y2=\"180\" stroke=\"white\" stroke-width=\"1\" stroke-linecap=\"butt\" /><line x1=\"0\" y1=\"0\" x2=\"180\" y2=\"0\" stroke=\"white\" stroke-width=\"1\" stroke-linecap=\"butt\" /><line x1=\"0\" y1=\"60\" x2=\"180\" y2=\"60\" stroke=\"white\" stroke-width=\"1\" stroke-linecap=\"butt\" /><line x1=\"0\" y1=\"120\" x2=\"180\" y2=\"120\" stroke=\"white\" stroke-width=\"1\" stroke-linecap=\"butt\" /><line x1=\"0\" y1=\"180\" x2=\"180\" y2=\"180\" stroke=\"white\" stroke-width=\"1\" stroke-linecap=\"butt\" /><text x=\"6\" y=\"115\" stroke=\"black\" fill=\"black\">5</text><text x=\"6\" y=\"175\" stroke=\"black\" fill=\"black\">7</text><text x=\"26\" y=\"15\" stroke=\"black\" fill=\"black\">3</text><text x=\"26\" y=\"115\" stroke=\"black\" fill=\"black\">6</text><text x=\"26\" y=\"155\" stroke=\"black\" fill=\"black\">2</text><text x=\"46\" y=\"15\" stroke=\"black\" fill=\"black\">9</text><text x=\"46\" y=\"135\" stroke=\"black\" fill=\"black\">5</text><text x=\"46\" y=\"155\" stroke=\"black\" fill=\"black\">1</text><text x=\"66\" y=\"35\" stroke=\"black\" fill=\"black\">7</text><text x=\"66\" y=\"75\" stroke=\"black\" fill=\"black\">6</text><text x=\"66\" y=\"135\" stroke=\"black\" fill=\"black\">2</text><text x=\"86\" y=\"55\" stroke=\"black\" fill=\"black\">6</text><text x=\"86\" y=\"95\" stroke=\"black\" fill=\"black\">4</text><text x=\"106\" y=\"55\" stroke=\"black\" fill=\"black\">5</text><text x=\"106\" y=\"75\" stroke=\"black\" fill=\"black\">3</text><text x=\"106\" y=\"135\" stroke=\"black\" fill=\"black\">9</text><text x=\"126\" y=\"35\" stroke=\"black\" fill=\"black\">4</text><text x=\"126\" y=\"75\" stroke=\"black\" fill=\"black\">2</text><text x=\"126\" y=\"95\" stroke=\"black\" fill=\"black\">8</text><text x=\"126\" y=\"175\" stroke=\"black\" fill=\"black\">5</text><text x=\"146\" y=\"35\" stroke=\"black\" fill=\"black\">9</text><text x=\"146\" y=\"55\" stroke=\"black\" fill=\"black\">8</text><text x=\"146\" y=\"75\" stroke=\"black\" fill=\"black\">7</text><text x=\"146\" y=\"155\" stroke=\"black\" fill=\"black\">4</text><text x=\"166\" y=\"15\" stroke=\"black\" fill=\"black\">7</text><text x=\"166\" y=\"35\" stroke=\"black\" fill=\"black\">2</text><text x=\"166\" y=\"55\" stroke=\"black\" fill=\"black\">3</text><text x=\"166\" y=\"135\" stroke=\"black\" fill=\"black\">1</text><text x=\"6\" y=\"15\" stroke=\"#99ff33\" fill=\"#99ff33\">1</text><text x=\"66\" y=\"15\" stroke=\"#99ff33\" fill=\"#99ff33\">2</text></svg></div>"
     },
     "execution_count": 3,
     "metadata": {},
     "output_type": "execute_result"
    }
   ],
   "source": [
    "Sudoku = [ [\"*\",  3 ,  9 , \"*\", \"*\", \"*\", \"*\", \"*\",  7 ],\n",
    "           [\"*\", \"*\", \"*\",  7 , \"*\", \"*\",  4 ,  9 ,  2 ],\n",
    "           [\"*\", \"*\", \"*\", \"*\",  6 ,  5 , \"*\",  8 ,  3 ],\n",
    "           [\"*\", \"*\", \"*\",  6 , \"*\",  3 ,  2 ,  7 , \"*\"],\n",
    "           [\"*\", \"*\", \"*\", \"*\",  4 , \"*\",  8 , \"*\", \"*\"],\n",
    "           [ 5 ,  6 , \"*\", \"*\", \"*\", \"*\", \"*\", \"*\", \"*\"],\n",
    "           [\"*\", \"*\",  5 ,  2 , \"*\",  9 , \"*\", \"*\",  1 ],\n",
    "           [\"*\",  2 ,  1 , \"*\", \"*\", \"*\", \"*\",  4 , \"*\"],\n",
    "           [ 7 , \"*\", \"*\", \"*\", \"*\", \"*\",  5 , \"*\", \"*\"]\n",
    "         ]\n",
    "Assignments = { \"V11\":1,\"V14\":2 }\n",
    "grid = Grid(state=Sudoku, assigned=Assignments, html_width=\"50%\")\n",
    "grid"
   ],
   "metadata": {
    "collapsed": false
   }
  },
  {
   "cell_type": "code",
   "execution_count": 5,
   "outputs": [],
   "source": [
    "grid.save_svg(\"sudoku_assignment.svg\")"
   ],
   "metadata": {
    "collapsed": false
   }
  },
  {
   "cell_type": "code",
   "execution_count": null,
   "outputs": [],
   "source": [],
   "metadata": {
    "collapsed": false
   }
  }
 ],
 "metadata": {
  "kernelspec": {
   "display_name": "Python 3",
   "language": "python",
   "name": "python3"
  },
  "language_info": {
   "codemirror_mode": {
    "name": "ipython",
    "version": 2
   },
   "file_extension": ".py",
   "mimetype": "text/x-python",
   "name": "python",
   "nbconvert_exporter": "python",
   "pygments_lexer": "ipython2",
   "version": "2.7.6"
  }
 },
 "nbformat": 4,
 "nbformat_minor": 0
}
